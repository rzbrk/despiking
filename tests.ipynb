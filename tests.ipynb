{
 "cells": [
  {
   "cell_type": "code",
   "execution_count": 13,
   "id": "c8d9064e",
   "metadata": {},
   "outputs": [],
   "source": [
    "import pandas as pd\n",
    "\n",
    "\n",
    "df = pd.DataFrame([(0.0, np.nan, -1.0, 1.0),\n",
    "    (np.nan, 2.0, np.nan, np.nan),\n",
    "    (2.0, 3.0, np.nan, 9.0),\n",
    "    (np.nan, 4.0, -4.0, 16.0)],\n",
    "    columns=list('abcd'))\n"
   ]
  },
  {
   "cell_type": "code",
   "execution_count": 14,
   "id": "81636cd6",
   "metadata": {},
   "outputs": [
    {
     "data": {
      "text/html": [
       "<div>\n",
       "<style scoped>\n",
       "    .dataframe tbody tr th:only-of-type {\n",
       "        vertical-align: middle;\n",
       "    }\n",
       "\n",
       "    .dataframe tbody tr th {\n",
       "        vertical-align: top;\n",
       "    }\n",
       "\n",
       "    .dataframe thead th {\n",
       "        text-align: right;\n",
       "    }\n",
       "</style>\n",
       "<table border=\"1\" class=\"dataframe\">\n",
       "  <thead>\n",
       "    <tr style=\"text-align: right;\">\n",
       "      <th></th>\n",
       "      <th>a</th>\n",
       "      <th>b</th>\n",
       "      <th>c</th>\n",
       "      <th>d</th>\n",
       "    </tr>\n",
       "  </thead>\n",
       "  <tbody>\n",
       "    <tr>\n",
       "      <th>0</th>\n",
       "      <td>0.0</td>\n",
       "      <td>NaN</td>\n",
       "      <td>-1.0</td>\n",
       "      <td>1.0</td>\n",
       "    </tr>\n",
       "    <tr>\n",
       "      <th>1</th>\n",
       "      <td>NaN</td>\n",
       "      <td>2.0</td>\n",
       "      <td>NaN</td>\n",
       "      <td>NaN</td>\n",
       "    </tr>\n",
       "    <tr>\n",
       "      <th>2</th>\n",
       "      <td>2.0</td>\n",
       "      <td>3.0</td>\n",
       "      <td>NaN</td>\n",
       "      <td>9.0</td>\n",
       "    </tr>\n",
       "    <tr>\n",
       "      <th>3</th>\n",
       "      <td>NaN</td>\n",
       "      <td>4.0</td>\n",
       "      <td>-4.0</td>\n",
       "      <td>16.0</td>\n",
       "    </tr>\n",
       "  </tbody>\n",
       "</table>\n",
       "</div>"
      ],
      "text/plain": [
       "     a    b    c     d\n",
       "0  0.0  NaN -1.0   1.0\n",
       "1  NaN  2.0  NaN   NaN\n",
       "2  2.0  3.0  NaN   9.0\n",
       "3  NaN  4.0 -4.0  16.0"
      ]
     },
     "execution_count": 14,
     "metadata": {},
     "output_type": "execute_result"
    }
   ],
   "source": [
    "df"
   ]
  },
  {
   "cell_type": "code",
   "execution_count": 28,
   "id": "3f02bec6",
   "metadata": {},
   "outputs": [],
   "source": [
    "df.interpolate(method='linear',  inplace=True)"
   ]
  },
  {
   "cell_type": "code",
   "execution_count": 29,
   "id": "7ca4b36f",
   "metadata": {},
   "outputs": [
    {
     "data": {
      "text/html": [
       "<div>\n",
       "<style scoped>\n",
       "    .dataframe tbody tr th:only-of-type {\n",
       "        vertical-align: middle;\n",
       "    }\n",
       "\n",
       "    .dataframe tbody tr th {\n",
       "        vertical-align: top;\n",
       "    }\n",
       "\n",
       "    .dataframe thead th {\n",
       "        text-align: right;\n",
       "    }\n",
       "</style>\n",
       "<table border=\"1\" class=\"dataframe\">\n",
       "  <thead>\n",
       "    <tr style=\"text-align: right;\">\n",
       "      <th></th>\n",
       "      <th>a</th>\n",
       "      <th>b</th>\n",
       "      <th>c</th>\n",
       "      <th>d</th>\n",
       "    </tr>\n",
       "  </thead>\n",
       "  <tbody>\n",
       "    <tr>\n",
       "      <th>0</th>\n",
       "      <td>0.0</td>\n",
       "      <td>NaN</td>\n",
       "      <td>-1.0</td>\n",
       "      <td>1.0</td>\n",
       "    </tr>\n",
       "    <tr>\n",
       "      <th>1</th>\n",
       "      <td>1.0</td>\n",
       "      <td>2.0</td>\n",
       "      <td>-2.0</td>\n",
       "      <td>5.0</td>\n",
       "    </tr>\n",
       "    <tr>\n",
       "      <th>2</th>\n",
       "      <td>2.0</td>\n",
       "      <td>3.0</td>\n",
       "      <td>-3.0</td>\n",
       "      <td>9.0</td>\n",
       "    </tr>\n",
       "    <tr>\n",
       "      <th>3</th>\n",
       "      <td>2.0</td>\n",
       "      <td>4.0</td>\n",
       "      <td>-4.0</td>\n",
       "      <td>16.0</td>\n",
       "    </tr>\n",
       "  </tbody>\n",
       "</table>\n",
       "</div>"
      ],
      "text/plain": [
       "     a    b    c     d\n",
       "0  0.0  NaN -1.0   1.0\n",
       "1  1.0  2.0 -2.0   5.0\n",
       "2  2.0  3.0 -3.0   9.0\n",
       "3  2.0  4.0 -4.0  16.0"
      ]
     },
     "execution_count": 29,
     "metadata": {},
     "output_type": "execute_result"
    }
   ],
   "source": [
    "df"
   ]
  },
  {
   "cell_type": "code",
   "execution_count": 43,
   "id": "d28212cf",
   "metadata": {},
   "outputs": [
    {
     "data": {
      "text/plain": [
       "2000-01-01 00:00:00    1.0\n",
       "2000-01-01 00:01:00    2.0\n",
       "2000-01-01 00:02:00    3.0\n",
       "2000-01-01 00:03:00    4.0\n",
       "2000-01-01 00:04:00    5.0\n",
       "2000-01-01 00:05:00    6.0\n",
       "2000-01-01 00:06:00    7.0\n",
       "2000-01-01 00:07:00    8.0\n",
       "2000-01-01 00:08:00    9.0\n",
       "Freq: T, dtype: float64"
      ]
     },
     "execution_count": 43,
     "metadata": {},
     "output_type": "execute_result"
    }
   ],
   "source": [
    "index = pd.date_range('1/1/2000', periods=9, freq='T')\n",
    "\n",
    "series = pd.Series(np.linspace(1,9,9), index=index)\n",
    "\n",
    "series"
   ]
  },
  {
   "cell_type": "code",
   "execution_count": 45,
   "id": "9fd711f3",
   "metadata": {},
   "outputs": [
    {
     "data": {
      "text/plain": [
       "2000-01-01 00:00:00    1.000000\n",
       "2000-01-01 00:00:10    1.166667\n",
       "2000-01-01 00:00:20    1.333333\n",
       "2000-01-01 00:00:30    1.500000\n",
       "2000-01-01 00:00:40    1.666667\n",
       "2000-01-01 00:00:50    1.833333\n",
       "2000-01-01 00:01:00    2.000000\n",
       "2000-01-01 00:01:10    2.166667\n",
       "2000-01-01 00:01:20    2.333333\n",
       "2000-01-01 00:01:30    2.500000\n",
       "2000-01-01 00:01:40    2.666667\n",
       "2000-01-01 00:01:50    2.833333\n",
       "2000-01-01 00:02:00    3.000000\n",
       "2000-01-01 00:02:10    3.166667\n",
       "2000-01-01 00:02:20    3.333333\n",
       "2000-01-01 00:02:30    3.500000\n",
       "2000-01-01 00:02:40    3.666667\n",
       "2000-01-01 00:02:50    3.833333\n",
       "2000-01-01 00:03:00    4.000000\n",
       "2000-01-01 00:03:10    4.166667\n",
       "2000-01-01 00:03:20    4.333333\n",
       "2000-01-01 00:03:30    4.500000\n",
       "2000-01-01 00:03:40    4.666667\n",
       "2000-01-01 00:03:50    4.833333\n",
       "2000-01-01 00:04:00    5.000000\n",
       "2000-01-01 00:04:10    5.166667\n",
       "2000-01-01 00:04:20    5.333333\n",
       "2000-01-01 00:04:30    5.500000\n",
       "2000-01-01 00:04:40    5.666667\n",
       "2000-01-01 00:04:50    5.833333\n",
       "2000-01-01 00:05:00    6.000000\n",
       "2000-01-01 00:05:10    6.166667\n",
       "2000-01-01 00:05:20    6.333333\n",
       "2000-01-01 00:05:30    6.500000\n",
       "2000-01-01 00:05:40    6.666667\n",
       "2000-01-01 00:05:50    6.833333\n",
       "2000-01-01 00:06:00    7.000000\n",
       "2000-01-01 00:06:10    7.166667\n",
       "2000-01-01 00:06:20    7.333333\n",
       "2000-01-01 00:06:30    7.500000\n",
       "2000-01-01 00:06:40    7.666667\n",
       "2000-01-01 00:06:50    7.833333\n",
       "2000-01-01 00:07:00    8.000000\n",
       "2000-01-01 00:07:10    8.166667\n",
       "2000-01-01 00:07:20    8.333333\n",
       "2000-01-01 00:07:30    8.500000\n",
       "2000-01-01 00:07:40    8.666667\n",
       "2000-01-01 00:07:50    8.833333\n",
       "2000-01-01 00:08:00    9.000000\n",
       "Freq: 10S, dtype: float64"
      ]
     },
     "execution_count": 45,
     "metadata": {},
     "output_type": "execute_result"
    }
   ],
   "source": [
    "series.resample('10S').interpolate()"
   ]
  },
  {
   "cell_type": "code",
   "execution_count": 42,
   "id": "c129dbb8",
   "metadata": {},
   "outputs": [
    {
     "data": {
      "text/plain": [
       "array([0.        , 0.55555556, 1.11111111, 1.66666667, 2.22222222,\n",
       "       2.77777778, 3.33333333, 3.88888889, 4.44444444, 5.        ])"
      ]
     },
     "execution_count": 42,
     "metadata": {},
     "output_type": "execute_result"
    }
   ],
   "source": []
  },
  {
   "cell_type": "code",
   "execution_count": null,
   "id": "f909a605",
   "metadata": {},
   "outputs": [],
   "source": []
  }
 ],
 "metadata": {
  "kernelspec": {
   "display_name": "Python 3",
   "language": "python",
   "name": "python3"
  },
  "language_info": {
   "codemirror_mode": {
    "name": "ipython",
    "version": 3
   },
   "file_extension": ".py",
   "mimetype": "text/x-python",
   "name": "python",
   "nbconvert_exporter": "python",
   "pygments_lexer": "ipython3",
   "version": "3.9.7"
  }
 },
 "nbformat": 4,
 "nbformat_minor": 5
}
